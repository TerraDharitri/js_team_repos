{
 "cells": [
  {
   "cell_type": "markdown",
   "metadata": {},
   "source": [
    "## SDK-PY Workshop\n",
    "\n",
    "Today we are going to have a quick lesson on interacting with the DharitrI blockchain using Python.\n",
    "\n",
    "We will learn to interact with the Network through a so-called network provider, and we will create, sign and broadcast transactions (including Smart Contract calls), query accounts state (including Smart Contract queries), and more.\n",
    "\n",
    "First, let us meet the libraries we will be using for interacting with DharitrI. They are:\n",
    "\n",
    "- [@terradharitri/sdk-py-core](https://github.com/TerraDharitri/drt-sdk-py-core)\n",
    "- [@terradharitri/sdk-py-wallet](https://github.com/TerraDharitri/drt-sdk-py-wallet)\n",
    "- [@terradharitri/sdk-py-network-providers](https://github.com/TerraDharitri/drt-sdk-py-network-providers)\n",
    "\n",
    "Today we are going to:\n",
    "\n",
    "- Create, sign and broadcast REWA and DCDT Transfers\n",
    "- Query account information\n",
    "- Interact with Smart Contracts\n",
    "\n",
    "We'll do all these things using a Jupiter Notebook.\n",
    "\n",
    "For our purposes, the application will interact with the Devnet. We are going to use the public DharitrI API as our entrypoint to the Network.\n",
    "\n",
    "I'll use a wallet that contains some tokens so we can send transactions, but I'll show you how to create a new wallet, in case you don't have one already."
   ]
  },
  {
   "cell_type": "markdown",
   "metadata": {},
   "source": [
    "## Creating Wallets"
   ]
  },
  {
   "cell_type": "markdown",
   "metadata": {},
   "source": [
    "### Generating the mnemonic"
   ]
  },
  {
   "cell_type": "code",
   "execution_count": null,
   "metadata": {},
   "outputs": [
    {
     "ename": "",
     "evalue": "",
     "output_type": "error",
     "traceback": [
      "\u001b[1;31mThe kernel failed to start as '_psutil_linux' could not be imported from 'most likely due to a circular import'.\n",
      "\u001b[1;31mClick <a href='https://aka.ms/kernelFailuresModuleImportErrFromFile'>here</a> for more info."
     ]
    }
   ],
   "source": [
    "from dharitri_sdk_wallet import Mnemonic\n",
    "\n",
    "mnemonic = Mnemonic.generate()\n",
    "words = mnemonic.get_words()\n",
    "\n",
    "print(words)"
   ]
  },
  {
   "cell_type": "markdown",
   "metadata": {},
   "source": [
    "This is just an example, you **SHOULD NOT** display or share your mnemonic."
   ]
  },
  {
   "cell_type": "markdown",
   "metadata": {},
   "source": [
    "Given the mnemonic, we can generate keypairs:"
   ]
  },
  {
   "cell_type": "code",
   "execution_count": null,
   "metadata": {},
   "outputs": [],
   "source": [
    "secret_key = mnemonic.derive_key(0)\n",
    "public_key = secret_key.generate_public_key()\n",
    "\n",
    "print(\"Secret key:\", secret_key.hex())\n",
    "print(\"Public key:\", public_key.hex())"
   ]
  },
  {
   "cell_type": "markdown",
   "metadata": {},
   "source": [
    "Using the keypair we can save it as a wallet. There are different wallet formats so we'll save it a PEM wallet. This is not recommended as it is not very safe, but it's good for testing as it is very easy to use."
   ]
  },
  {
   "cell_type": "code",
   "execution_count": null,
   "metadata": {},
   "outputs": [],
   "source": [
    "from pathlib import Path\n",
    "\n",
    "from dharitri_sdk_core import Address\n",
    "from dharitri_sdk_wallet import UserPEM\n",
    "\n",
    "label = Address(public_key.buffer, \"drt\").bech32()\n",
    "pem = UserPEM(label=label, secret_key=secret_key)\n",
    "pem.save(Path(\"./output/wallet.pem\"))"
   ]
  },
  {
   "cell_type": "markdown",
   "metadata": {},
   "source": [
    "## REWA Transfers"
   ]
  },
  {
   "cell_type": "markdown",
   "metadata": {},
   "source": [
    "### Fetching the nonce\n",
    "\n",
    "We fetch the nonce using the network providers. We are using the DharitrI Api, so we are going to pass it the api url."
   ]
  },
  {
   "cell_type": "code",
   "execution_count": null,
   "metadata": {},
   "outputs": [],
   "source": [
    "from dharitri_sdk_network_providers import ApiNetworkProvider\n",
    "\n",
    "api = ApiNetworkProvider(\"https://devnet-api.dharitri.org\")\n",
    "sender = Address.from_bech32(\"drt1seev64tevr927nm0hg7ux9zh94khcj0pxs3ckmnaswglfn0s5w4s4wjkpa\")\n",
    "\n",
    "nonce = api.get_account(sender).nonce\n",
    "\n",
    "print(nonce)"
   ]
  },
  {
   "cell_type": "markdown",
   "metadata": {},
   "source": [
    "### Crafting the move balance transaction\n",
    "\n",
    "After fetching the nonce of the sender we can craft our transaction. Keep in mind that there's an ongoing effort to standardize the SDK's so they'll become consistent across all programming languages. That being said, how we craft the transaction might change in the future, but in this workshop we'll use the libraries as they are now."
   ]
  },
  {
   "cell_type": "code",
   "execution_count": null,
   "metadata": {},
   "outputs": [],
   "source": [
    "from dharitri_sdk_core import Address, TokenPayment, Transaction\n",
    "\n",
    "receiver = Address.from_bech32(\"drt1qyu5wthldzr8wx5c9ucg8kjagg0jfs53s8nr3zpz3hypefsdd8ssey5egf\")\n",
    "\n",
    "tx = Transaction(\n",
    "    nonce=nonce,\n",
    "    sender=sender,\n",
    "    receiver=receiver,\n",
    "    value=TokenPayment.rewa_from_amount(\"1.0\"),\n",
    "    gas_limit=50000,\n",
    "    chain_id=\"D\"\n",
    ")\n",
    "\n",
    "print(tx.to_dictionary())"
   ]
  },
  {
   "cell_type": "markdown",
   "metadata": {},
   "source": [
    "### Signing the transaction\n",
    "\n",
    "We will crete a signer from the PEM file of our acount."
   ]
  },
  {
   "cell_type": "code",
   "execution_count": null,
   "metadata": {},
   "outputs": [],
   "source": [
    "from dharitri_sdk_wallet import UserSigner\n",
    "\n",
    "signer = UserSigner.from_pem_file(Path(\"./output/workshop.pem\"))\n",
    "\n",
    "tx.signature = signer.sign(tx)\n",
    "print(\"Signature\", tx.signature.hex())"
   ]
  },
  {
   "cell_type": "markdown",
   "metadata": {},
   "source": [
    "### Broadcasting the transaction\n",
    "\n",
    "After our transaction is prepared and signed, it's ready to be broadcasted on the network."
   ]
  },
  {
   "cell_type": "code",
   "execution_count": null,
   "metadata": {},
   "outputs": [],
   "source": [
    "hash = api.send_transaction(tx)\n",
    "print(\"Transaction hash:\", hash)"
   ]
  },
  {
   "cell_type": "code",
   "execution_count": null,
   "metadata": {},
   "outputs": [],
   "source": []
  },
  {
   "cell_type": "markdown",
   "metadata": {},
   "source": [
    "## DCDT Transfers\n",
    "\n",
    "For sending DCDT Tokens we should take the same steps as we did for transfering REWA. We fetch the account nonce, we create the transaction, we sign it and then we broadcast it.\n",
    "\n",
    "When sending DCDT Tokens we set the value of the transaction to `0`. We also need to format the data field in a certain way. You can see how the data field should look [here](https://docs.dharitri.org/tokens/dcdt-tokens#transfers), but we don't need to worry about this since we have a builder that we'll be using and that will take care of formatting the field for us."
   ]
  },
  {
   "cell_type": "markdown",
   "metadata": {},
   "source": [
    "Let's fetch the nonce again. Because we've broadcasted the above transaction the nonce has incremented."
   ]
  },
  {
   "cell_type": "code",
   "execution_count": null,
   "metadata": {},
   "outputs": [],
   "source": [
    "nonce = api.get_account(sender).nonce\n",
    "\n",
    "print(nonce)"
   ]
  },
  {
   "cell_type": "markdown",
   "metadata": {},
   "source": [
    "Before instantiating the Transaction Builder we need to create a configuration object."
   ]
  },
  {
   "cell_type": "code",
   "execution_count": null,
   "metadata": {},
   "outputs": [],
   "source": [
    "from dharitri_sdk_core.transaction_builders import DefaultTransactionBuildersConfiguration\n",
    "\n",
    "config = DefaultTransactionBuildersConfiguration(chain_id=\"D\")"
   ]
  },
  {
   "cell_type": "markdown",
   "metadata": {},
   "source": [
    "The **transaction builder** is parametrized at instantiation, and the transaction is obtained by invoking the `build()` method:"
   ]
  },
  {
   "cell_type": "code",
   "execution_count": null,
   "metadata": {},
   "outputs": [],
   "source": [
    "from dharitri_sdk_core.transaction_builders import DCDTTransferBuilder\n",
    "\n",
    "payment = TokenPayment.fungible_from_amount(\"WSTKN-b7792b\", \"100.00\", 6)\n",
    "\n",
    "builder = DCDTTransferBuilder(\n",
    "    config=config,\n",
    "    sender=sender,\n",
    "    receiver=receiver,\n",
    "    payment=payment,\n",
    "    nonce=nonce,\n",
    "    value=0\n",
    ")\n",
    "\n",
    "tx = builder.build()\n",
    "print(\"Transaction:\", tx.to_dictionary())\n",
    "print(\"Transaction data:\", tx.data)"
   ]
  },
  {
   "cell_type": "markdown",
   "metadata": {},
   "source": [
    "After the transaction is crafted it's time to sign it."
   ]
  },
  {
   "cell_type": "code",
   "execution_count": null,
   "metadata": {},
   "outputs": [],
   "source": [
    "tx.signature = signer.sign(tx)\n",
    "print(\"Signature\", tx.signature.hex())"
   ]
  },
  {
   "cell_type": "markdown",
   "metadata": {},
   "source": [
    "The only step left now is to broadcast the transaction:"
   ]
  },
  {
   "cell_type": "code",
   "execution_count": null,
   "metadata": {},
   "outputs": [],
   "source": [
    "hash = api.send_transaction(tx)\n",
    "print(\"Transaction hash:\", hash)"
   ]
  },
  {
   "cell_type": "markdown",
   "metadata": {},
   "source": [
    "## Contract deployment and interactions"
   ]
  },
  {
   "cell_type": "markdown",
   "metadata": {},
   "source": [
    "### Contract deployment\n",
    "\n",
    "In order for us to interact with our smart contract it's necessary to deploy it onto the network. For the sake of our examples, we will proceed with deploying one ourselves.\n",
    "\n",
    "Before deploying the contract make sure you have built the latest version.\n",
    "\n",
    "For creating the deploy transaction we will use a `Contract Deployment Builder`."
   ]
  },
  {
   "cell_type": "code",
   "execution_count": null,
   "metadata": {},
   "outputs": [],
   "source": [
    "from dharitri_sdk_core import CodeMetadata\n",
    "from dharitri_sdk_core.transaction_builders import ContractDeploymentBuilder\n",
    "\n",
    "metadata = CodeMetadata(upgradeable=True, readable=True, payable=True, payable_by_contract=True)\n",
    "\n",
    "builder = ContractDeploymentBuilder(\n",
    "    config,\n",
    "    owner=sender,\n",
    "    deploy_arguments=[0],\n",
    "    code_metadata=metadata,\n",
    "    code=Path(\"./contracts/adder.wasm\").read_bytes(),\n",
    "    gas_limit=10000000\n",
    ")\n",
    "\n",
    "tx = builder.build()\n",
    "print(\"Transaction:\", tx.to_dictionary())\n",
    "print(\"Transaction data:\", tx.data)"
   ]
  },
  {
   "cell_type": "markdown",
   "metadata": {},
   "source": [
    "Of course you need to set the correct nonce and sign it and after that the transaction is ready to be broadcasted."
   ]
  },
  {
   "cell_type": "markdown",
   "metadata": {},
   "source": [
    "### Contract call\n",
    "\n",
    "We can create a transaction that invokes a smart contract function:"
   ]
  },
  {
   "cell_type": "code",
   "execution_count": null,
   "metadata": {},
   "outputs": [],
   "source": []
  },
  {
   "cell_type": "code",
   "execution_count": null,
   "metadata": {},
   "outputs": [],
   "source": [
    "from dharitri_sdk_core.transaction_builders import ContractCallBuilder\n",
    "\n",
    "contract_address = Address.from_bech32(\"drt1qqqqqqqqqqqqqpgq9ntwtuj3max5qlgmpvvuxknmaay5z9fdd8ssfxr0py\")\n",
    "\n",
    "builder = ContractCallBuilder(\n",
    "    config,\n",
    "    contract=contract_address,\n",
    "    function_name=\"add\",\n",
    "    caller=sender,\n",
    "    call_arguments=[5],\n",
    "    gas_limit=10000000\n",
    ")\n",
    "\n",
    "tx = builder.build()\n",
    "print(\"Transaction:\", tx.to_dictionary())\n",
    "print(\"Transaction data:\", tx.data)"
   ]
  },
  {
   "cell_type": "markdown",
   "metadata": {},
   "source": [
    "### Contract queries\n",
    "\n",
    "For querying smart contracts we only need to use the network providers, we do not need to craft any transactions."
   ]
  },
  {
   "cell_type": "code",
   "execution_count": null,
   "metadata": {},
   "outputs": [],
   "source": [
    "from dharitri_sdk_core import ContractQueryBuilder\n",
    "from dharitri_sdk_network_providers import ApiNetworkProvider\n",
    "\n",
    "contract = Address.from_bech32(\"drt1qqqqqqqqqqqqqpgq9ntwtuj3max5qlgmpvvuxknmaay5z9fdd8ssfxr0py\")\n",
    "\n",
    "builder = ContractQueryBuilder(\n",
    "    contract=contract,\n",
    "    function=\"getSum\",\n",
    "    call_arguments=[],\n",
    "    caller=sender\n",
    ")\n",
    "\n",
    "query = builder.build()\n",
    "\n",
    "network_provider = ApiNetworkProvider(\"https://devnet-api.dharitri.org\")\n",
    "response = network_provider.query_contract(query)\n",
    "\n",
    "print(\"Return code:\", response.return_code)\n",
    "print(\"Return data:\", response.return_data)"
   ]
  },
  {
   "cell_type": "markdown",
   "metadata": {},
   "source": [
    "### Contract upgrade\n",
    "\n",
    "You can also upgrade your contract. Replace the old code with new code."
   ]
  },
  {
   "cell_type": "code",
   "execution_count": null,
   "metadata": {},
   "outputs": [
    {
     "ename": "",
     "evalue": "",
     "output_type": "error",
     "traceback": [
      "\u001b[1;31mThe kernel failed to start as '_psutil_linux' could not be imported from 'most likely due to a circular import'.\n",
      "\u001b[1;31mClick <a href='https://aka.ms/kernelFailuresModuleImportErrFromFile'>here</a> for more info."
     ]
    }
   ],
   "source": [
    "from dharitri_sdk_core.transaction_builders import ContractUpgradeBuilder\n",
    "\n",
    "contract_address = Address.from_bech32(\"drt1qqqqqqqqqqqqqpgq9ntwtuj3max5qlgmpvvuxknmaay5z9fdd8ssfxr0py\")\n",
    "metadata = CodeMetadata(upgradeable=True, readable=True, payable=True, payable_by_contract=True)\n",
    "\n",
    "builder = ContractUpgradeBuilder(\n",
    "    config,\n",
    "    contract=contract_address,\n",
    "    owner=sender,\n",
    "    upgrade_arguments=[0],\n",
    "    code_metadata=metadata,\n",
    "    code=Path(\"./contracts/adder.wasm\").read_bytes(),\n",
    "    gas_limit=10000000\n",
    ")\n",
    "\n",
    "tx = builder.build()\n",
    "print(\"Transaction:\", tx.to_dictionary())\n",
    "print(\"Transaction data:\", tx.data)"
   ]
  },
  {
   "cell_type": "markdown",
   "metadata": {},
   "source": [
    "Remember to set the correct nonce and sign the transactions if you want to broadcast them."
   ]
  },
  {
   "cell_type": "markdown",
   "metadata": {},
   "source": [
    "That's all for today!\n",
    "\n",
    "We've reached the end of the tutorial.\n",
    "\n",
    "We've learned to interact with the network using a network provider, to create, sign and broadcast transactions, to query account state, and to deploy and interact with smart contracts.\n",
    "\n",
    "Thank you for listening!\n",
    "\n",
    "Don't forget to check out our official documentation [here](https://docs.dharitri.org) and the workshops repository."
   ]
  }
 ],
 "metadata": {
  "kernelspec": {
   "display_name": "Python 3",
   "language": "python",
   "name": "python3"
  },
  "language_info": {
   "codemirror_mode": {
    "name": "ipython",
    "version": 3
   },
   "file_extension": ".py",
   "mimetype": "text/x-python",
   "name": "python",
   "nbconvert_exporter": "python",
   "pygments_lexer": "ipython3",
   "version": "3.11.11"
  },
  "orig_nbformat": 4
 },
 "nbformat": 4,
 "nbformat_minor": 2
}
